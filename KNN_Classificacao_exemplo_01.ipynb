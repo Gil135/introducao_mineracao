{
  "nbformat": 4,
  "nbformat_minor": 0,
  "metadata": {
    "kernelspec": {
      "display_name": "Python 3",
      "language": "python",
      "name": "python3"
    },
    "language_info": {
      "codemirror_mode": {
        "name": "ipython",
        "version": 3
      },
      "file_extension": ".py",
      "mimetype": "text/x-python",
      "name": "python",
      "nbconvert_exporter": "python",
      "pygments_lexer": "ipython3",
      "version": "3.6.5"
    },
    "colab": {
      "name": "KNN_Classificacao-exemplo_01.ipynb",
      "provenance": [],
      "collapsed_sections": [],
      "include_colab_link": true
    }
  },
  "cells": [
    {
      "cell_type": "markdown",
      "metadata": {
        "id": "view-in-github",
        "colab_type": "text"
      },
      "source": [
        "<a href=\"https://colab.research.google.com/github/Gil135/introducao_mineracao/blob/master/KNN_Classificacao_exemplo_01.ipynb\" target=\"_parent\"><img src=\"https://colab.research.google.com/assets/colab-badge.svg\" alt=\"Open In Colab\"/></a>"
      ]
    },
    {
      "cell_type": "code",
      "metadata": {
        "id": "e8lUjvU7j2X6"
      },
      "source": [
        "import numpy as np\n",
        "import pandas as pd\n",
        "%matplotlib inline\n",
        "import matplotlib.pyplot as plt\n",
        "import seaborn as sns\n",
        "sns.set_style('whitegrid', {\"axes.grid\" : False})\n",
        "sns.set_context('notebook')\n",
        "np.random.seed(42)"
      ],
      "execution_count": null,
      "outputs": []
    },
    {
      "cell_type": "code",
      "metadata": {
        "id": "fc5UzliAj2YE"
      },
      "source": [
        "from sklearn.neighbors import KNeighborsClassifier\n"
      ],
      "execution_count": null,
      "outputs": []
    },
    {
      "cell_type": "code",
      "metadata": {
        "colab": {
          "base_uri": "https://localhost:8080/",
          "height": 285
        },
        "id": "u9sJgsOxpbf2",
        "outputId": "06de72c7-f787-4647-9e72-50a391c7c4c0"
      },
      "source": [
        "baseDados = pd.read_csv('base_knn.csv')\n",
        "\n",
        "h = .1\n",
        "x_min, x_max = baseDados.X1.min() -1, baseDados.X1.max() +1\n",
        "y_min, y_max = baseDados.X2.min() -1, baseDados.X2.max() +1\n",
        "xx, yy = np.meshgrid(np.arange(x_min, x_max, h), np.arange(y_min, y_max, h))\n",
        "\n",
        "plt.scatter(baseDados.X1[baseDados.Y == 1], baseDados.X2[baseDados.Y == 1], c = 'black', marker = '+') \n",
        "plt.scatter(baseDados.X1[baseDados.Y == 0], baseDados.X2[baseDados.Y == 0], c = 'darkgreen', marker = '_') "
      ],
      "execution_count": null,
      "outputs": [
        {
          "output_type": "execute_result",
          "data": {
            "text/plain": [
              "<matplotlib.collections.PathCollection at 0x7f5cac43c1d0>"
            ]
          },
          "metadata": {
            "tags": []
          },
          "execution_count": 27
        },
        {
          "output_type": "display_data",
          "data": {
            "image/png": "[encoded data removed]",
            "text/plain": [
              "<Figure size 432x288 with 1 Axes>"
            ]
          },
          "metadata": {
            "tags": [],
            "needs_background": "light"
          }
        }
      ]
    },
    {
      "cell_type": "code",
      "metadata": {
        "scrolled": true,
        "id": "BfEeKmezj2YF",
        "colab": {
          "base_uri": "https://localhost:8080/",
          "height": 285
        },
        "outputId": "f06d04dc-e4c0-428f-bb56-624addebe73b"
      },
      "source": [
        "baseDados = pd.read_csv('base_knn.csv')\n",
        "\n",
        "h = .1\n",
        "x_min, x_max = baseDados.X1.min() -1, baseDados.X1.max() +1\n",
        "y_min, y_max = baseDados.X2.min() -1, baseDados.X2.max() +1\n",
        "xx, yy = np.meshgrid(np.arange(x_min, x_max, h), np.arange(y_min, y_max, h))\n",
        "\n",
        "plt.scatter(baseDados.X1[baseDados.Y == 0], baseDados.X2[baseDados.Y == 0], c = 'darkgreen', marker = '_') \n",
        "h = .1\n",
        "x_min, x_max = baseDados.X1.min() -1, baseDados.X1.max() +1\n",
        "y_min, y_max = baseDados.X2.min() -1, baseDados.X2.max() +1\n",
        "xx, yy = np.meshgrid(np.arange(x_min, x_max, h), np.arange(y_min, y_max, h))plt.scatter(baseDados.X1[baseDados.Y == 1], baseDados.X2[baseDados.Y == 1], c = 'black', marker = '+') "
      ],
      "execution_count": null,
      "outputs": [
        {
          "output_type": "execute_result",
          "data": {
            "text/plain": [
              "<matplotlib.collections.PathCollection at 0x7f5cac2da5d0>"
            ]
          },
          "metadata": {
            "tags": []
          },
          "execution_count": 31
        },
        {
          "output_type": "display_data",
          "data": {
            "image/png": "[encoded data removed]",
            "text/plain": [
              "<Figure size 432x288 with 1 Axes>"
            ]
          },
          "metadata": {
            "tags": [],
            "needs_background": "light"
          }
        }
      ]
    },
    {
      "cell_type": "code",
      "metadata": {
        "colab": {
          "base_uri": "https://localhost:8080/",
          "height": 285
        },
        "id": "5-j15Whuqk0r",
        "outputId": "1d63b2a8-4f75-44ce-c239-9e1575d910cc"
      },
      "source": [
        "\n",
        "h = .025\n",
        "x_min, x_max = baseDados.X1.min() -1, baseDados.X1.max() +1\n",
        "y_min, y_max = baseDados.X2.min() -1, baseDados.X2.max() +1\n",
        "xx, yy = np.meshgrid(np.arange(x_min, x_max, h), np.arange(y_min, y_max, h))\n",
        "\n",
        "KNN = KNeighborsClassifier(n_neighbors=1)\n",
        "KNN.fit(X,Y)\n",
        "\n",
        "Z = KNN.predict(np.c_[xx.ravel(), yy.ravel()])\n",
        "Z = Z.reshape(xx.shape)\n",
        "plt.figure()\n",
        "plt.pcolormesh(xx, yy, Z, cmap = plt.cm.Accent)\n",
        "\n",
        "pred = KNN.predict(X)\n",
        "plt.scatter(baseDados.X1[baseDados.Y == 0], baseDados.X2[baseDados.Y == 0], c = 'darkgreen', marker = '_') \n",
        "plt.scatter(baseDados.X1[baseDados.Y == 1], baseDados.X2[baseDados.Y == 1], c = 'black', marker = '+')"
      ],
      "execution_count": null,
      "outputs": [
        {
          "output_type": "execute_result",
          "data": {
            "text/plain": [
              "<matplotlib.collections.PathCollection at 0x7f5cac00b750>"
            ]
          },
          "metadata": {
            "tags": []
          },
          "execution_count": 37
        },
        {
          "output_type": "display_data",
          "data": {
            "image/png": "[encoded data removed]",
            "text/plain": [
              "<Figure size 432x288 with 1 Axes>"
            ]
          },
          "metadata": {
            "tags": [],
            "needs_background": "light"
          }
        }
      ]
    },
    {
      "cell_type": "code",
      "metadata": {
        "id": "rU9MYV5Tj2YG",
        "colab": {
          "base_uri": "https://localhost:8080/",
          "height": 195
        },
        "outputId": "1cd356ff-538d-48fe-9e9d-4f75bf0f5d3d"
      },
      "source": [
        "baseDados.head()"
      ],
      "execution_count": null,
      "outputs": [
        {
          "output_type": "execute_result",
          "data": {
            "text/html": [
              "<div>\n",
              "<style scoped>\n",
              "    .dataframe tbody tr th:only-of-type {\n",
              "        vertical-align: middle;\n",
              "    }\n",
              "\n",
              "    .dataframe tbody tr th {\n",
              "        vertical-align: top;\n",
              "    }\n",
              "\n",
              "    .dataframe thead th {\n",
              "        text-align: right;\n",
              "    }\n",
              "</style>\n",
              "<table border=\"1\" class=\"dataframe\">\n",
              "  <thead>\n",
              "    <tr style=\"text-align: right;\">\n",
              "      <th></th>\n",
              "      <th>X1</th>\n",
              "      <th>X2</th>\n",
              "      <th>Y</th>\n",
              "    </tr>\n",
              "  </thead>\n",
              "  <tbody>\n",
              "    <tr>\n",
              "      <th>0</th>\n",
              "      <td>0.0</td>\n",
              "      <td>0.0</td>\n",
              "      <td>0</td>\n",
              "    </tr>\n",
              "    <tr>\n",
              "      <th>1</th>\n",
              "      <td>0.5</td>\n",
              "      <td>0.4</td>\n",
              "      <td>0</td>\n",
              "    </tr>\n",
              "    <tr>\n",
              "      <th>2</th>\n",
              "      <td>0.6</td>\n",
              "      <td>0.0</td>\n",
              "      <td>0</td>\n",
              "    </tr>\n",
              "    <tr>\n",
              "      <th>3</th>\n",
              "      <td>0.7</td>\n",
              "      <td>0.3</td>\n",
              "      <td>0</td>\n",
              "    </tr>\n",
              "    <tr>\n",
              "      <th>4</th>\n",
              "      <td>1.8</td>\n",
              "      <td>2.1</td>\n",
              "      <td>0</td>\n",
              "    </tr>\n",
              "  </tbody>\n",
              "</table>\n",
              "</div>"
            ],
            "text/plain": [
              "    X1   X2  Y\n",
              "0  0.0  0.0  0\n",
              "1  0.5  0.4  0\n",
              "2  0.6  0.0  0\n",
              "3  0.7  0.3  0\n",
              "4  1.8  2.1  0"
            ]
          },
          "metadata": {
            "tags": []
          },
          "execution_count": 4
        }
      ]
    },
    {
      "cell_type": "code",
      "metadata": {
        "id": "9Hzi6Alqj2YG",
        "colab": {
          "base_uri": "https://localhost:8080/"
        },
        "outputId": "2c65c45b-6535-44c1-c9ae-2fbee3ad98e4"
      },
      "source": [
        "X = baseDados[['X1', 'X2']]\n",
        "Y = baseDados.Y\n",
        "\n",
        "KNN = KNeighborsClassifier(n_neighbors=1)\n",
        "KNN.fit(X,Y)"
      ],
      "execution_count": null,
      "outputs": [
        {
          "output_type": "execute_result",
          "data": {
            "text/plain": [
              "KNeighborsClassifier(algorithm='auto', leaf_size=30, metric='minkowski',\n",
              "                     metric_params=None, n_jobs=None, n_neighbors=1, p=2,\n",
              "                     weights='uniform')"
            ]
          },
          "metadata": {
            "tags": []
          },
          "execution_count": 5
        }
      ]
    },
    {
      "cell_type": "code",
      "metadata": {
        "id": "iv8vthKCj2YH",
        "colab": {
          "base_uri": "https://localhost:8080/"
        },
        "outputId": "d01f0331-c648-4c2b-e337-eaeae03652af"
      },
      "source": [
        "KNN.predict(X)"
      ],
      "execution_count": null,
      "outputs": [
        {
          "output_type": "execute_result",
          "data": {
            "text/plain": [
              "array([0, 0, 0, 0, 0, 0, 0, 0, 1, 1, 1, 1, 1, 1, 1, 1, 1])"
            ]
          },
          "metadata": {
            "tags": []
          },
          "execution_count": 6
        }
      ]
    },
    {
      "cell_type": "code",
      "metadata": {
        "id": "-TCs8Dmbj2YH",
        "colab": {
          "base_uri": "https://localhost:8080/",
          "height": 286
        },
        "outputId": "bcb9faf3-a9d9-4f05-a7b5-f0a6d605a5ac"
      },
      "source": [
        "KNN = KNeighborsClassifier(n_neighbors=1)\n",
        "KNN.fit(X,Y)\n",
        "\n",
        "Z = KNN.predict(np.c_[xx.ravel(), yy.ravel()])\n",
        "Z = Z.reshape(xx.shape)\n",
        "plt.figure()\n",
        "plt.pcolormesh(xx, yy, Z, cmap = plt.cm.Accent)\n",
        "\n",
        "pred = KNN.predict(X)\n",
        "plt.scatter(baseDados.X1[baseDados.Y == 0], baseDados.X2[baseDados.Y == 0], c = 'darkgreen', marker = '_') \n",
        "plt.scatter(baseDados.X1[baseDados.Y == 1], baseDados.X2[baseDados.Y == 1], c = 'black', marker = '+') \n",
        "\n",
        "plt.scatter([2.5],[2.5], s = 100 , c = 'darkgreen' if KNN.predict([[2.5,2.5]]) == 0 else 'black')\n",
        "plt.scatter([1.5],[1.0], s = 100 , c = 'darkgreen' if KNN.predict([[1.5,1.0]]) == 0 else 'black')\n",
        "plt.scatter([3.5],[3.0], s = 100 , c = 'darkgreen' if KNN.predict([[3.5,3.0]]) == 0 else 'black')\n"
      ],
      "execution_count": null,
      "outputs": [
        {
          "output_type": "execute_result",
          "data": {
            "text/plain": [
              "<matplotlib.collections.PathCollection at 0x7f5cac240e50>"
            ]
          },
          "metadata": {
            "tags": []
          },
          "execution_count": 32
        },
        {
          "output_type": "display_data",
          "data": {
            "image/png": "[encoded data removed]",
            "text/plain": [
              "<Figure size 432x288 with 1 Axes>"
            ]
          },
          "metadata": {
            "tags": [],
            "needs_background": "light"
          }
        }
      ]
    },
    {
      "cell_type": "code",
      "metadata": {
        "colab": {
          "base_uri": "https://localhost:8080/",
          "height": 286
        },
        "id": "JjEnxDqrp3CK",
        "outputId": "01b58080-9a7e-43bf-8e09-44cef70b0cbb"
      },
      "source": [
        "KNN = KNeighborsClassifier(n_neighbors=1)\n",
        "KNN.fit(X,Y)\n",
        "\n",
        "Z = KNN.predict(np.c_[xx.ravel(), yy.ravel()])\n",
        "Z = Z.reshape(xx.shape)\n",
        "plt.figure()\n",
        "plt.pcolormesh(xx, yy, Z, cmap = plt.cm.Accent)\n"
      ],
      "execution_count": null,
      "outputs": [
        {
          "output_type": "execute_result",
          "data": {
            "text/plain": [
              "<matplotlib.collections.QuadMesh at 0x7f5cac4139d0>"
            ]
          },
          "metadata": {
            "tags": []
          },
          "execution_count": 28
        },
        {
          "output_type": "display_data",
          "data": {
            "image/png": "[encoded data removed]",
            "text/plain": [
              "<Figure size 432x288 with 1 Axes>"
            ]
          },
          "metadata": {
            "tags": [],
            "needs_background": "light"
          }
        }
      ]
    },
    {
      "cell_type": "code",
      "metadata": {
        "id": "GTWqI852j2YI",
        "colab": {
          "base_uri": "https://localhost:8080/",
          "height": 286
        },
        "outputId": "169e5eb6-2238-41bf-cb33-e1d2e658b4bf"
      },
      "source": [
        "KNN = KNeighborsClassifier(n_neighbors=5)\n",
        "KNN.fit(X,Y)\n",
        "\n",
        "Z = KNN.predict(np.c_[xx.ravel(), yy.ravel()])\n",
        "Z = Z.reshape(xx.shape)\n",
        "plt.figure()\n",
        "plt.pcolormesh(xx, yy, Z, cmap = plt.cm.Accent)\n",
        "\n",
        "pred = KNN.predict(X)\n",
        "plt.scatter(baseDados.X1[baseDados.Y == 0], baseDados.X2[baseDados.Y == 0], c = 'darkgreen', marker = '_') \n",
        "plt.scatter(baseDados.X1[baseDados.Y == 1], baseDados.X2[baseDados.Y == 1], c = 'black', marker = '+') \n",
        "\n",
        "plt.scatter([2.5],[2.5], s = 100 , c = 'darkgreen' if KNN.predict([[2.5,2.5]]) == 0 else 'black')\n",
        "plt.scatter([1.5],[1.0], s = 100 , c = 'darkgreen' if KNN.predict([[1.5,1.0]]) == 0 else 'black')\n",
        "plt.scatter([3.5],[3.0], s = 100 , c = 'darkgreen' if KNN.predict([[3.5,3.0]]) == 0 else 'black')\n"
      ],
      "execution_count": null,
      "outputs": [
        {
          "output_type": "execute_result",
          "data": {
            "text/plain": [
              "<matplotlib.collections.PathCollection at 0x7f5cac769510>"
            ]
          },
          "metadata": {
            "tags": []
          },
          "execution_count": 19
        },
        {
          "output_type": "display_data",
          "data": {
            "image/png": "[encoded data removed]",
            "text/plain": [
              "<Figure size 432x288 with 1 Axes>"
            ]
          },
          "metadata": {
            "tags": [],
            "needs_background": "light"
          }
        }
      ]
    },
    {
      "cell_type": "code",
      "metadata": {
        "id": "Mi1jG7trj2YI",
        "colab": {
          "base_uri": "https://localhost:8080/"
        },
        "outputId": "e7ef136c-8ae7-438c-a618-8efa2b3d63b0"
      },
      "source": [
        "from sklearn.model_selection import cross_val_score\n",
        "KNN_cv = KNeighborsClassifier(n_neighbors=1)\n",
        "\n",
        "\n",
        "cv_scores = cross_val_score(KNN_cv, X, Y, cv=5)#print each cv score (accuracy) and average them\n",
        "print(cv_scores)\n",
        "print('cv_scores mean:{}'.format(np.mean(cv_scores)))\n"
      ],
      "execution_count": null,
      "outputs": [
        {
          "output_type": "stream",
          "text": [
            "[1.  1.  0.8]\n",
            "cv_scores mean:0.9333333333333332\n"
          ],
          "name": "stdout"
        }
      ]
    }
  ]
}